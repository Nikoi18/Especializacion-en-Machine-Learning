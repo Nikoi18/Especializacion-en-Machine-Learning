{
 "cells": [
  {
   "cell_type": "markdown",
   "metadata": {
    "id": "XXYzMwYH4RKh"
   },
   "source": [
    "# Ejercicio 1\n",
    "Utiliza el conjunto de datos adult.csv y ejecuta los códigos que se muestran en las siguientes capturas de pantalla. Luego responde las preguntas."
   ]
  },
  {
   "cell_type": "code",
   "execution_count": null,
   "metadata": {
    "id": "cOBlQn6e4RKi",
    "outputId": "e55b54aa-6279-4738-ea4b-dc2478185614"
   },
   "outputs": [],
   "source": [
    "import pandas as pd\n",
    "import numpy as np\n",
    "adult_df = pd.read_csv('adult.csv')\n",
    "adult_df.set_index(np.arange(10000,42561),inplace=True)\n",
    "\n",
    "print(adult_df.iloc[5:7,0:2])\n",
    "\n",
    "print(adult_df.loc['10005':'10007','age':'fnlwgt'])"
   ]
  },
  {
   "cell_type": "markdown",
   "metadata": {
    "id": "zvYVMx0b4RKk"
   },
   "source": [
    "- Utiliza la salida para responder cuál es la diferencia en el comportamiento de .loc e .iloc cuando se trata de cortar.\n",
    "\n",
    "- Sin ejecutar, pero solo mirando los datos, ¿cuál será la salida de adult_df.loc['10000':'10003', 'relationship':'sex']?\n",
    "\n",
    "- Sin ejecutar, pero solo mirando los datos, ¿cuál será la salida de adult_df.iloc[0:3, 7:9]?\n",
    "\n"
   ]
  },
  {
   "cell_type": "markdown",
   "metadata": {
    "id": "Ed-L6ztk4RKk"
   },
   "source": [
    "                                    RESPUESTAS\n",
    "- Que loc, utiliza etiquetas e iloc utiliza posicion enteras\n",
    "- El codigo mostraria la posicion 10000 hasta 10003 (filas) y luego mostraria las columnas relationsship hasta la sex\n",
    "- El codigo mostrias la posicion 10000 hasta la 10002(mostraria 2 filas) y luego las columnas del indice 7 hasta el 8 (mostraria 2 columnas)\n",
    "\n"
   ]
  },
  {
   "cell_type": "markdown",
   "metadata": {
    "id": "AXfFrM5R4RKl"
   },
   "source": [
    "# Ejercicio 2\n",
    "Para adult_df usa la función .groupby() para ejecutar el siguiente código y crear la serie de índices múltiples mlt_sr."
   ]
  },
  {
   "cell_type": "code",
   "execution_count": null,
   "metadata": {
    "id": "0SK7cD6h4RKl",
    "outputId": "c1025f2d-d12e-43a2-aa77-9b43551c25c7"
   },
   "outputs": [],
   "source": [
    "import pandas as pd\n",
    "\n",
    "adult_df = pd.read_csv('adult.csv')\n",
    "mlt_seris =adult_df.groupby(['race','sex','income']).fnlwgt.mean()\n",
    "mlt_seris"
   ]
  },
  {
   "cell_type": "markdown",
   "metadata": {
    "id": "GDIW5dy14RKm"
   },
   "source": [
    "Ahora que has creado una serie de índices múltiples, ejecuta los siguientes códigos, estudia las salidas y responde las preguntas.\n",
    "\n",
    "- Ejecuta el código a continuación primero y luego responde lo siguiente. Cuando usamos .iloc[] para una serie o DataFrame de índices múltiples, ¿qué deberíamos esperar?"
   ]
  },
  {
   "cell_type": "code",
   "execution_count": null,
   "metadata": {
    "id": "EYSdKuKN4RKn",
    "outputId": "a94c4abf-22dd-4869-a93b-d768bfb0b572"
   },
   "outputs": [],
   "source": [
    "print(mlt_seris.iloc[0])\n",
    "print(mlt_seris.iloc[1])\n",
    "print(mlt_seris.iloc[2])"
   ]
  },
  {
   "cell_type": "markdown",
   "metadata": {
    "id": "rSv46M8_4RKp"
   },
   "source": [
    "                                    RESPUESTA\n",
    "- Que muestre los datos de las filas y columnas de los indices indicados"
   ]
  },
  {
   "cell_type": "markdown",
   "metadata": {
    "id": "JSvgKkW44RKq"
   },
   "source": [
    "- Ejecuta el código a continuación primero y luego responde lo siguiente. Cuando usamos .loc[] para acceder a los datos de uno de los niveles de índice más internos de la serie de índices múltiples, ¿qué deberíamos esperar?\n",
    "\n"
   ]
  },
  {
   "cell_type": "code",
   "execution_count": null,
   "metadata": {
    "id": "c_S7G0Mv4RKq",
    "outputId": "05e49f60-fdb8-4086-8157-6cb0ec45881e"
   },
   "outputs": [],
   "source": [
    "mlt_seris.loc['Other']"
   ]
  },
  {
   "cell_type": "markdown",
   "metadata": {
    "id": "OfNQ2DPN4RKr"
   },
   "source": [
    "                                    RESPUESTA\n",
    "- Que nos muestres los datos, en este caso accedemos con la etiqueta de los grupos OTHER y asi nos muestra todo el contenido de ese grupo\n"
   ]
  },
  {
   "cell_type": "markdown",
   "metadata": {
    "id": "YM0mJXJJ4RKr"
   },
   "source": [
    "- Ejecuta los códigos a continuación primero y luego responde lo siguiente. Cuando usamos .loc[] para acceder a los datos de uno de los niveles de índice no más internos de la serie de índices múltiples, ¿qué deberíamos esperar?\n",
    "\n",
    "Cuando ejecutes cualquiera de las líneas de código a continuación, obtendrás un error y ese es el punto de esta pregunta. Estudia el error e intenta responder la pregunta."
   ]
  },
  {
   "cell_type": "markdown",
   "metadata": {},
   "source": [
    "                            RESPUESTA\n",
    "- El error esta es que esta accediendo con una etiqueta unica de lo cual no existe en la serie, si colocamos las otras razas, como Black, White, si nos muestras los grupos"
   ]
  },
  {
   "cell_type": "code",
   "execution_count": null,
   "metadata": {
    "id": "k7x-bWm-4RKr"
   },
   "outputs": [],
   "source": [
    "mlt_seris.loc['Female']"
   ]
  },
  {
   "cell_type": "code",
   "execution_count": null,
   "metadata": {
    "id": "JrNvTIwb4RKs"
   },
   "outputs": [],
   "source": [
    "mlt_seris.loc['<=50K']"
   ]
  },
  {
   "cell_type": "markdown",
   "metadata": {
    "id": "TI3d03cb4RKs"
   },
   "source": [
    "- Ejecuta los códigos a continuación primero y luego responde lo siguiente. ¿En qué se diferencia el uso de .loc[] o .iloc[] cuando se trabaja con una serie de índices múltiples o un DataFrame?\n",
    "\n"
   ]
  },
  {
   "cell_type": "code",
   "execution_count": null,
   "metadata": {
    "id": "oA-WlIRs4RKs",
    "outputId": "b3cf0bc9-271a-4fb9-8458-eee0bcbb148f"
   },
   "outputs": [],
   "source": [
    "print(mlt_seris.loc['Other']['Female']['<=50K'])\n",
    "print(mlt_seris.iloc[12])"
   ]
  },
  {
   "cell_type": "markdown",
   "metadata": {
    "id": "kXrjt5KZ4RKt"
   },
   "source": [
    "                                        RESPUESTAS\n",
    "- Entra al grupo other y obtiene la media solicidato (etiqueta)\n",
    "- Entra al indice 12 y obtiene la media solcidata (posicion)"
   ]
  },
  {
   "cell_type": "markdown",
   "metadata": {
    "id": "QOcGBf2R4RKt"
   },
   "source": [
    "# Ejercicio 3\n",
    "Para este ejercicio, debe utilizar un nuevo conjunto de datos: billboard.csv. Visite https://www.billboard.com/charts/hot-100 y vea las clasificaciones de canciones más recientes del día. Este conjunto de datos presenta información y clasificación de 317 pistas de canciones en 80 columnas. Las primeras cuatro columnas son artista, pista, hora y date_e. Las primeras columnas son descripciones intuitivas de las pistas de canciones. La columna date_e muestra la fecha en que las canciones ingresaron a la lista hot-100. Las 76 columnas restantes son las clasificaciones de canciones al final de cada semana desde 'w1' hasta 'w76'. Descargue y lea este conjunto de datos con pandas y responda las siguientes preguntas."
   ]
  },
  {
   "cell_type": "code",
   "execution_count": null,
   "metadata": {
    "id": "JTOV0AbI4RKt"
   },
   "outputs": [],
   "source": [
    "import pandas as pd\n",
    "df = pd.read_csv('billboard.csv')\n"
   ]
  },
  {
   "cell_type": "markdown",
   "metadata": {
    "id": "t3ppU3_w4RKt"
   },
   "source": [
    "- Escribe una línea de código que te dé una gran idea de cuántos valores nulos tiene cada columna. Si hay alguna columna que no tenga valores no nulos, elimínala.\n",
    "\n"
   ]
  },
  {
   "cell_type": "code",
   "execution_count": null,
   "metadata": {
    "id": "_qHbzD-r4RKt",
    "scrolled": true
   },
   "outputs": [],
   "source": [
    "print(df.isnull().sum())\n",
    "df.drop(['artist', 'track', 'time', 'date_e','w1'], axis='columns', inplace=True)\n"
   ]
  },
  {
   "cell_type": "code",
   "execution_count": null,
   "metadata": {},
   "outputs": [],
   "source": [
    "print(df.isnull().sum())"
   ]
  },
  {
   "cell_type": "markdown",
   "metadata": {
    "id": "6CWvfEL14RKt"
   },
   "source": [
    "- Con un bucle for, dibuja y estudia los valores en cada una de las columnas W restantes.\n",
    "\n"
   ]
  },
  {
   "cell_type": "code",
   "execution_count": null,
   "metadata": {
    "id": "8YhWD7b_4RKt"
   },
   "outputs": [],
   "source": [
    "for c, dato in df.items():\n",
    "    print(\"Columna:\",c)\n",
    "    print(dato)\n",
    "    print(\"\\n\")\n",
    "    \n",
    "    "
   ]
  },
  {
   "cell_type": "markdown",
   "metadata": {
    "id": "zcOUSnKN4RKu"
   },
   "source": [
    "- El conjunto de datos está en formato ancho, usa una función apropiada para cambiar a un formato largo y nombra el dataframe fundido mlt_df.\n",
    "\n"
   ]
  },
  {
   "cell_type": "code",
   "execution_count": null,
   "metadata": {
    "id": "eqN6rSuM4RKu"
   },
   "outputs": [],
   "source": [
    "mlt_df= df.melt()\n",
    "mlt_df"
   ]
  },
  {
   "cell_type": "markdown",
   "metadata": {
    "id": "Tp-sJgha4RKu"
   },
   "source": [
    "- Escribe un código que muestre mlt_df cada 1200 filas.\n",
    "\n"
   ]
  },
  {
   "cell_type": "code",
   "execution_count": null,
   "metadata": {
    "id": "GXuPHbSs4RKu"
   },
   "outputs": [],
   "source": [
    "x = 0\n",
    "while x <= 23774:\n",
    "    if x < 23774:        \n",
    "        print(mlt_df.iloc[x])\n",
    "        x = x + 1200        \n",
    "    else:\n",
    "        break"
   ]
  },
  {
   "cell_type": "markdown",
   "metadata": {
    "id": "hkCOcN1i4RKv"
   },
   "source": [
    "- Ejecuta el siguiente código primero y responde la pregunta. ¿Podrías haber hecho esto usando también el enmascaramiento booleano?\n",
    "\n"
   ]
  },
  {
   "cell_type": "code",
   "execution_count": null,
   "metadata": {
    "id": "AZjk6NJx4RKv"
   },
   "outputs": [],
   "source": [
    "mlt_df.query('artist == \"Spears, Britney\"')"
   ]
  },
  {
   "cell_type": "markdown",
   "metadata": {
    "id": "WSnawEw54RKv"
   },
   "source": [
    "¿Se podría haber hecho esto utilizando también el enmascaramiento booleano?\n",
    "\n"
   ]
  },
  {
   "cell_type": "markdown",
   "metadata": {
    "id": "zChFd8k54RKv"
   },
   "source": [
    "Answer:"
   ]
  },
  {
   "cell_type": "code",
   "execution_count": null,
   "metadata": {},
   "outputs": [],
   "source": []
  },
  {
   "cell_type": "markdown",
   "metadata": {
    "id": "7wheet0U4RKw"
   },
   "source": [
    "- Utiliza el enfoque en e o la máscara booleana para extraer todas las canciones únicas que Britney Spears tiene en este conjunto de datos.\n",
    "\n"
   ]
  },
  {
   "cell_type": "code",
   "execution_count": null,
   "metadata": {
    "id": "7F0cyxR74RKx"
   },
   "outputs": [],
   "source": []
  },
  {
   "cell_type": "markdown",
   "metadata": {
    "id": "lEc2keVM4RKx"
   },
   "source": [
    "- En mlt_df muestra todas las semanas que la canción \"Oops!.. I Did It Again\" estuvo en el top-100\n",
    "\n"
   ]
  },
  {
   "cell_type": "code",
   "execution_count": null,
   "metadata": {
    "id": "Ciz_RKvB4RKx"
   },
   "outputs": [],
   "source": []
  },
  {
   "cell_type": "markdown",
   "metadata": {
    "id": "0mEEGY8D4RKy"
   },
   "source": [
    "# Ejercicio 4\n",
    "\n",
    "Para este ejercicio, utilizaremos LaqnData.csv. Cada fila de este conjunto de datos muestra un registro de medición por hora de uno de los cinco siguientes contaminantes del aire: NO, NO2, NOX, PM10 y PM2,5. Los datos se recopilaron en una ubicación de Londres durante todo el año 2017. Lea los datos con Pandas y realice las siguientes tareas."
   ]
  },
  {
   "cell_type": "code",
   "execution_count": null,
   "metadata": {
    "id": "HkFc-ToX4RKy",
    "outputId": "66258ef7-f02d-4056-adc8-44727e4645e1"
   },
   "outputs": [],
   "source": [
    "import pandas as pd\n",
    "import matplotlib.pyplot as plt\n",
    "\n",
    "air_df = pd.read_csv('LaqnData.csv')\n",
    "air_df"
   ]
  },
  {
   "cell_type": "markdown",
   "metadata": {
    "id": "c70Sy_4-4RKz"
   },
   "source": [
    "- El conjunto de datos tiene 6 columnas. Tres de ellas, llamadas 'Site','Units','Provisional or Ratified' no añaden ningún valor informativo, ya que son las mismas en todo el conjunto de datos. Utiliza el siguiente código para eliminarlas.\n",
    "\n"
   ]
  },
  {
   "cell_type": "code",
   "execution_count": null,
   "metadata": {
    "id": "ugpHy6Nm4RKz"
   },
   "outputs": [],
   "source": [
    "air_df.drop(columns=['Site','Units','Provisional or Ratified'], inplace=True)"
   ]
  },
  {
   "cell_type": "markdown",
   "metadata": {
    "id": "OPjo_p334RKz"
   },
   "source": [
    "- El conjunto de datos está en formato largo. Aplica la función adecuada para cambiarlo al formato ancho. Nombra el DataFrame transformado, pvt_df.\n",
    "\n"
   ]
  },
  {
   "cell_type": "code",
   "execution_count": null,
   "metadata": {
    "id": "rQa3rIWo4RKz"
   },
   "outputs": [],
   "source": [
    "df_largo = pd.DataFrame(air_df)\n",
    "print(\"DF Largo\")\n",
    "print(df_largo)\n",
    "pvt_df = df_largo.pivot(index='Species',columns='ReadingDateTime', values='Value')\n",
    "print(\"Data Frame Formato Ancho:\\n\") \n",
    "print(pvt_df) "
   ]
  },
  {
   "cell_type": "markdown",
   "metadata": {
    "id": "ahuPgcTR4RK0"
   },
   "source": [
    "- Dibuja y estudia el histograma y los diagramas de caja para las columnas de pvt_df.\n",
    "\n"
   ]
  },
  {
   "cell_type": "code",
   "execution_count": null,
   "metadata": {
    "id": "ApJcHJeG4RK0"
   },
   "outputs": [],
   "source": [
    "import matplotlib.pyplot as plt\n",
    "import seaborn as sns\n",
    "plt.figure(figsize=(12,8))\n",
    "for i, column in enumerate(pvt_df.columns):\n",
    "    plt.subplot(2, 3, i + 1)\n",
    "    sns.histplot(pvt_df[column], kde= True)\n",
    "    plt.title(f'histograma de {column}')\n",
    "    plt.xlabel(column)\n",
    "    plt.ylabel('Fre')\n",
    "plt.tight_layout()\n",
    "plt.suptitle('Histograma de las columnas de pvt_df',y=1.02)\n",
    "plt.show()\n",
    "    "
   ]
  },
  {
   "cell_type": "code",
   "execution_count": null,
   "metadata": {},
   "outputs": [],
   "source": [
    "fig, ax= plt.subplots()\n",
    "plt.hist(pvt_df)\n",
    "plt.show()"
   ]
  },
  {
   "cell_type": "code",
   "execution_count": null,
   "metadata": {},
   "outputs": [],
   "source": [
    "print(pvt_df.head())\n",
    "nan_cols = pvt_df.columns[pvt_df.isnull().all()].tolist()\n",
    "print(\"columnas con todos los valores NaN: {}\".format(nan_cols))\n",
    "cols_to_plot = [col for col in pvt_df.columns if col not in nan_cols]\n",
    "\"\"\"for col in pvt_df.columns:\n",
    "    if col not in na_cols:\n",
    "        cols_to_plot.append(col)\"\"\"\n",
    "if cols_to_plot:\n",
    "    plt.figure(figsize=(12, 8))\n",
    "    for i, colum in enumerate(cols_to_plot):\n",
    "        plt.subplot(2865, 3, i + 1)\n",
    "        sns.histplot(pvt_df[column].dropna(), kde=True) \n",
    "        plt.title(f'Histograma de {column}')\n",
    "        plt.xlabel(column)\n",
    "        plt.ylabel('Frecuencia')\n",
    "    plt.tight_layout()\n",
    "    plt.suptitle('Histogramas de las columnas de pvt_df (sin columnas NaN)', y=1.02)\n",
    "    plt.show()\n",
    "        "
   ]
  },
  {
   "cell_type": "code",
   "execution_count": null,
   "metadata": {},
   "outputs": [],
   "source": [
    "print(\"numeros de columnas:{}\".format(len(cols_to_plot)))"
   ]
  },
  {
   "cell_type": "markdown",
   "metadata": {
    "id": "N484_qd54RK0"
   },
   "source": [
    "# Ejercicio 5\n",
    "\n",
    "Seguiremos trabajando con Law Data.csv.\n",
    "\n",
    "- Ejecuta el siguiente código, observa su salida y luego estudia el código para responder qué hace cada línea de este código."
   ]
  },
  {
   "cell_type": "code",
   "execution_count": 5,
   "metadata": {
    "id": "w_Z-Yeq34RK0",
    "outputId": "0a10144c-33c6-452c-aefa-eaed3b73192b"
   },
   "outputs": [
    {
     "data": {
      "text/html": [
       "<div>\n",
       "<style scoped>\n",
       "    .dataframe tbody tr th:only-of-type {\n",
       "        vertical-align: middle;\n",
       "    }\n",
       "\n",
       "    .dataframe tbody tr th {\n",
       "        vertical-align: top;\n",
       "    }\n",
       "\n",
       "    .dataframe thead th {\n",
       "        text-align: right;\n",
       "    }\n",
       "</style>\n",
       "<table border=\"1\" class=\"dataframe\">\n",
       "  <thead>\n",
       "    <tr style=\"text-align: right;\">\n",
       "      <th></th>\n",
       "      <th>Species</th>\n",
       "      <th>Value</th>\n",
       "      <th>Day</th>\n",
       "      <th>Month</th>\n",
       "      <th>Time</th>\n",
       "    </tr>\n",
       "  </thead>\n",
       "  <tbody>\n",
       "    <tr>\n",
       "      <th>0</th>\n",
       "      <td>NO</td>\n",
       "      <td>2.5</td>\n",
       "      <td>01</td>\n",
       "      <td>01</td>\n",
       "      <td>00:00</td>\n",
       "    </tr>\n",
       "    <tr>\n",
       "      <th>1</th>\n",
       "      <td>NO</td>\n",
       "      <td>1.9</td>\n",
       "      <td>01</td>\n",
       "      <td>01</td>\n",
       "      <td>01:00</td>\n",
       "    </tr>\n",
       "    <tr>\n",
       "      <th>2</th>\n",
       "      <td>NO</td>\n",
       "      <td>1.8</td>\n",
       "      <td>01</td>\n",
       "      <td>01</td>\n",
       "      <td>02:00</td>\n",
       "    </tr>\n",
       "    <tr>\n",
       "      <th>3</th>\n",
       "      <td>NO</td>\n",
       "      <td>0.9</td>\n",
       "      <td>01</td>\n",
       "      <td>01</td>\n",
       "      <td>03:00</td>\n",
       "    </tr>\n",
       "    <tr>\n",
       "      <th>4</th>\n",
       "      <td>NO</td>\n",
       "      <td>0.9</td>\n",
       "      <td>01</td>\n",
       "      <td>01</td>\n",
       "      <td>04:00</td>\n",
       "    </tr>\n",
       "    <tr>\n",
       "      <th>...</th>\n",
       "      <td>...</td>\n",
       "      <td>...</td>\n",
       "      <td>...</td>\n",
       "      <td>...</td>\n",
       "      <td>...</td>\n",
       "    </tr>\n",
       "    <tr>\n",
       "      <th>43795</th>\n",
       "      <td>PM10</td>\n",
       "      <td>11.2</td>\n",
       "      <td>31</td>\n",
       "      <td>12</td>\n",
       "      <td>19:00</td>\n",
       "    </tr>\n",
       "    <tr>\n",
       "      <th>43796</th>\n",
       "      <td>PM10</td>\n",
       "      <td>11.5</td>\n",
       "      <td>31</td>\n",
       "      <td>12</td>\n",
       "      <td>20:00</td>\n",
       "    </tr>\n",
       "    <tr>\n",
       "      <th>43797</th>\n",
       "      <td>PM10</td>\n",
       "      <td>11.8</td>\n",
       "      <td>31</td>\n",
       "      <td>12</td>\n",
       "      <td>21:00</td>\n",
       "    </tr>\n",
       "    <tr>\n",
       "      <th>43798</th>\n",
       "      <td>PM10</td>\n",
       "      <td>11.3</td>\n",
       "      <td>31</td>\n",
       "      <td>12</td>\n",
       "      <td>22:00</td>\n",
       "    </tr>\n",
       "    <tr>\n",
       "      <th>43799</th>\n",
       "      <td>PM10</td>\n",
       "      <td>13.8</td>\n",
       "      <td>31</td>\n",
       "      <td>12</td>\n",
       "      <td>23:00</td>\n",
       "    </tr>\n",
       "  </tbody>\n",
       "</table>\n",
       "<p>43800 rows × 5 columns</p>\n",
       "</div>"
      ],
      "text/plain": [
       "      Species  Value Day Month   Time\n",
       "0          NO    2.5  01    01  00:00\n",
       "1          NO    1.9  01    01  01:00\n",
       "2          NO    1.8  01    01  02:00\n",
       "3          NO    0.9  01    01  03:00\n",
       "4          NO    0.9  01    01  04:00\n",
       "...       ...    ...  ..   ...    ...\n",
       "43795    PM10   11.2  31    12  19:00\n",
       "43796    PM10   11.5  31    12  20:00\n",
       "43797    PM10   11.8  31    12  21:00\n",
       "43798    PM10   11.3  31    12  22:00\n",
       "43799    PM10   13.8  31    12  23:00\n",
       "\n",
       "[43800 rows x 5 columns]"
      ]
     },
     "execution_count": 5,
     "metadata": {},
     "output_type": "execute_result"
    }
   ],
   "source": [
    "#1 Importa la libreria pandas para trabajar con DataFrames\n",
    "import pandas as pd\n",
    "\n",
    "#2 Cargar el DF desde el archivo CSV\n",
    "air_df = pd.read_csv('LaqnData.csv')\n",
    "\n",
    "#3 Eliminar las columnas: 'Site','Units','Provisional or Ratified' del DF, inplace= True modififa el df original directamente\n",
    "air_df.drop(columns=['Site','Units','Provisional or Ratified'], inplace=True)\n",
    "\n",
    "#4 Accede a la columna ReadingDateTime del DF, .str permite usar el metodos cadena con los elementos de la columna\n",
    "#.split (' ',expand=True) divide cada cadena en la columna ReradingDateTime en dos partes, utilizando el espacio ' ' como separador\n",
    "#expand= True crea un nuevo DF con estas dos partes como columnas separadas\n",
    "#todo se guarda en un nuevo DF llamado datetime_df\n",
    "datetime_df = air_df.ReadingDateTime.str.split(' ',expand=True)\n",
    "\n",
    "#5 asigna los nombres 'Date','Time' a las dos columnas del DF datetime_df\n",
    "datetime_df.columns = ['Date','Time']\n",
    "\n",
    "#6 accede a la columna 'Date', .str.split('/',expand=True) divide cada cadena de fecha utilizando / como separador expandiendo el resultado\n",
    "#en nuevas columnas de DF luego se guarda todo en un nuevo df llamado date_df\n",
    "date_df = datetime_df.Date.str.split('/',expand=True)\n",
    "\n",
    "#7 asigna los nombres 'Day','Month','Year' a las 3 columnas del df date_Df\n",
    "date_df.columns = ['Day','Month','Year']\n",
    "\n",
    "#8 air_df.join(date_df) une el DF original air_df con el DF date_df basado en los indices por defectos\n",
    "#.join(datetime_df.Time) une el resultado anterior con la columna 'Time' del DF datetime_df\n",
    "#.drop(columns=['ReadingDateTime','Year']) elimina las columnas 'ReadingDateTime', 'Year' que ha sido separada\n",
    "#todo se guarda en el DF air_df las columnas nuevas y eliminadas \n",
    "air_df = air_df.join(date_df).join(datetime_df.Time).drop(columns=['ReadingDateTime','Year'])\n",
    "\n",
    "air_df"
   ]
  },
  {
   "cell_type": "markdown",
   "metadata": {
    "id": "IsopN1Ad4RK1"
   },
   "source": [
    "- Ejecuta el siguiente código, observa su salida y luego estudia el código para responder qué hace esta línea de código.\n",
    "\n"
   ]
  },
  {
   "cell_type": "code",
   "execution_count": 7,
   "metadata": {
    "id": "hpjKZ0Vp4RK2",
    "outputId": "1de2a037-35b2-4e8e-aad3-f660ee931207"
   },
   "outputs": [
    {
     "data": {
      "text/html": [
       "<div>\n",
       "<style scoped>\n",
       "    .dataframe tbody tr th:only-of-type {\n",
       "        vertical-align: middle;\n",
       "    }\n",
       "\n",
       "    .dataframe tbody tr th {\n",
       "        vertical-align: top;\n",
       "    }\n",
       "\n",
       "    .dataframe thead th {\n",
       "        text-align: right;\n",
       "    }\n",
       "</style>\n",
       "<table border=\"1\" class=\"dataframe\">\n",
       "  <thead>\n",
       "    <tr style=\"text-align: right;\">\n",
       "      <th></th>\n",
       "      <th></th>\n",
       "      <th></th>\n",
       "      <th></th>\n",
       "      <th>Value</th>\n",
       "    </tr>\n",
       "    <tr>\n",
       "      <th>Month</th>\n",
       "      <th>Day</th>\n",
       "      <th>Time</th>\n",
       "      <th>Species</th>\n",
       "      <th></th>\n",
       "    </tr>\n",
       "  </thead>\n",
       "  <tbody>\n",
       "    <tr>\n",
       "      <th rowspan=\"5\" valign=\"top\">01</th>\n",
       "      <th rowspan=\"5\" valign=\"top\">01</th>\n",
       "      <th>00:00</th>\n",
       "      <th>NO</th>\n",
       "      <td>2.5</td>\n",
       "    </tr>\n",
       "    <tr>\n",
       "      <th>01:00</th>\n",
       "      <th>NO</th>\n",
       "      <td>1.9</td>\n",
       "    </tr>\n",
       "    <tr>\n",
       "      <th>02:00</th>\n",
       "      <th>NO</th>\n",
       "      <td>1.8</td>\n",
       "    </tr>\n",
       "    <tr>\n",
       "      <th>03:00</th>\n",
       "      <th>NO</th>\n",
       "      <td>0.9</td>\n",
       "    </tr>\n",
       "    <tr>\n",
       "      <th>04:00</th>\n",
       "      <th>NO</th>\n",
       "      <td>0.9</td>\n",
       "    </tr>\n",
       "    <tr>\n",
       "      <th>...</th>\n",
       "      <th>...</th>\n",
       "      <th>...</th>\n",
       "      <th>...</th>\n",
       "      <td>...</td>\n",
       "    </tr>\n",
       "    <tr>\n",
       "      <th rowspan=\"5\" valign=\"top\">12</th>\n",
       "      <th rowspan=\"5\" valign=\"top\">31</th>\n",
       "      <th>19:00</th>\n",
       "      <th>PM10</th>\n",
       "      <td>11.2</td>\n",
       "    </tr>\n",
       "    <tr>\n",
       "      <th>20:00</th>\n",
       "      <th>PM10</th>\n",
       "      <td>11.5</td>\n",
       "    </tr>\n",
       "    <tr>\n",
       "      <th>21:00</th>\n",
       "      <th>PM10</th>\n",
       "      <td>11.8</td>\n",
       "    </tr>\n",
       "    <tr>\n",
       "      <th>22:00</th>\n",
       "      <th>PM10</th>\n",
       "      <td>11.3</td>\n",
       "    </tr>\n",
       "    <tr>\n",
       "      <th>23:00</th>\n",
       "      <th>PM10</th>\n",
       "      <td>13.8</td>\n",
       "    </tr>\n",
       "  </tbody>\n",
       "</table>\n",
       "<p>43800 rows × 1 columns</p>\n",
       "</div>"
      ],
      "text/plain": [
       "                         Value\n",
       "Month Day Time  Species       \n",
       "01    01  00:00 NO         2.5\n",
       "          01:00 NO         1.9\n",
       "          02:00 NO         1.8\n",
       "          03:00 NO         0.9\n",
       "          04:00 NO         0.9\n",
       "...                        ...\n",
       "12    31  19:00 PM10      11.2\n",
       "          20:00 PM10      11.5\n",
       "          21:00 PM10      11.8\n",
       "          22:00 PM10      11.3\n",
       "          23:00 PM10      13.8\n",
       "\n",
       "[43800 rows x 1 columns]"
      ]
     },
     "execution_count": 7,
     "metadata": {},
     "output_type": "execute_result"
    }
   ],
   "source": [
    "#se usa el metodo set_index, se le pasa una lista con los nombres de las columnas que se va \n",
    "#convertir en el nuevo indice, df se reorganiza estas 4 columnas nuevas se convierte en un MultiIndex\n",
    "air_df = air_df.set_index(['Month','Day','Time','Species'])\n",
    "\n",
    "#se ejecuta el df\n",
    "air_df\n"
   ]
  },
  {
   "cell_type": "markdown",
   "metadata": {
    "id": "Bgofiphj4RK3"
   },
   "source": [
    "- Ejecuta el siguiente código, observa su salida y luego estudia el código para responder qué hace esta línea de código.\n",
    "\n"
   ]
  },
  {
   "cell_type": "code",
   "execution_count": 9,
   "metadata": {
    "id": "vvmccAm34RK3",
    "outputId": "d0ce52be-9c54-411c-af9d-d11e3e3cd3b9"
   },
   "outputs": [
    {
     "data": {
      "text/html": [
       "<div>\n",
       "<style scoped>\n",
       "    .dataframe tbody tr th:only-of-type {\n",
       "        vertical-align: middle;\n",
       "    }\n",
       "\n",
       "    .dataframe tbody tr th {\n",
       "        vertical-align: top;\n",
       "    }\n",
       "\n",
       "    .dataframe thead tr th {\n",
       "        text-align: left;\n",
       "    }\n",
       "\n",
       "    .dataframe thead tr:last-of-type th {\n",
       "        text-align: right;\n",
       "    }\n",
       "</style>\n",
       "<table border=\"1\" class=\"dataframe\">\n",
       "  <thead>\n",
       "    <tr>\n",
       "      <th></th>\n",
       "      <th></th>\n",
       "      <th></th>\n",
       "      <th colspan=\"5\" halign=\"left\">Value</th>\n",
       "    </tr>\n",
       "    <tr>\n",
       "      <th></th>\n",
       "      <th></th>\n",
       "      <th>Species</th>\n",
       "      <th>NO</th>\n",
       "      <th>NO2</th>\n",
       "      <th>NOX</th>\n",
       "      <th>O3</th>\n",
       "      <th>PM10</th>\n",
       "    </tr>\n",
       "    <tr>\n",
       "      <th>Month</th>\n",
       "      <th>Day</th>\n",
       "      <th>Time</th>\n",
       "      <th></th>\n",
       "      <th></th>\n",
       "      <th></th>\n",
       "      <th></th>\n",
       "      <th></th>\n",
       "    </tr>\n",
       "  </thead>\n",
       "  <tbody>\n",
       "    <tr>\n",
       "      <th rowspan=\"5\" valign=\"top\">01</th>\n",
       "      <th rowspan=\"5\" valign=\"top\">01</th>\n",
       "      <th>00:00</th>\n",
       "      <td>2.5</td>\n",
       "      <td>14.6</td>\n",
       "      <td>18.5</td>\n",
       "      <td>59.8</td>\n",
       "      <td>11.4</td>\n",
       "    </tr>\n",
       "    <tr>\n",
       "      <th>01:00</th>\n",
       "      <td>1.9</td>\n",
       "      <td>17.3</td>\n",
       "      <td>20.2</td>\n",
       "      <td>53.6</td>\n",
       "      <td>8.9</td>\n",
       "    </tr>\n",
       "    <tr>\n",
       "      <th>02:00</th>\n",
       "      <td>1.8</td>\n",
       "      <td>17.5</td>\n",
       "      <td>20.3</td>\n",
       "      <td>54.5</td>\n",
       "      <td>6.9</td>\n",
       "    </tr>\n",
       "    <tr>\n",
       "      <th>03:00</th>\n",
       "      <td>0.9</td>\n",
       "      <td>17.3</td>\n",
       "      <td>18.7</td>\n",
       "      <td>57.5</td>\n",
       "      <td>5.6</td>\n",
       "    </tr>\n",
       "    <tr>\n",
       "      <th>04:00</th>\n",
       "      <td>0.9</td>\n",
       "      <td>12.9</td>\n",
       "      <td>14.3</td>\n",
       "      <td>60.9</td>\n",
       "      <td>1.4</td>\n",
       "    </tr>\n",
       "    <tr>\n",
       "      <th>...</th>\n",
       "      <th>...</th>\n",
       "      <th>...</th>\n",
       "      <td>...</td>\n",
       "      <td>...</td>\n",
       "      <td>...</td>\n",
       "      <td>...</td>\n",
       "      <td>...</td>\n",
       "    </tr>\n",
       "    <tr>\n",
       "      <th rowspan=\"5\" valign=\"top\">12</th>\n",
       "      <th rowspan=\"5\" valign=\"top\">31</th>\n",
       "      <th>19:00</th>\n",
       "      <td>10.4</td>\n",
       "      <td>47.4</td>\n",
       "      <td>NaN</td>\n",
       "      <td>32.1</td>\n",
       "      <td>11.2</td>\n",
       "    </tr>\n",
       "    <tr>\n",
       "      <th>20:00</th>\n",
       "      <td>11.4</td>\n",
       "      <td>52.0</td>\n",
       "      <td>NaN</td>\n",
       "      <td>29.9</td>\n",
       "      <td>11.5</td>\n",
       "    </tr>\n",
       "    <tr>\n",
       "      <th>21:00</th>\n",
       "      <td>9.4</td>\n",
       "      <td>48.2</td>\n",
       "      <td>NaN</td>\n",
       "      <td>30.1</td>\n",
       "      <td>11.8</td>\n",
       "    </tr>\n",
       "    <tr>\n",
       "      <th>22:00</th>\n",
       "      <td>7.9</td>\n",
       "      <td>40.9</td>\n",
       "      <td>NaN</td>\n",
       "      <td>35.7</td>\n",
       "      <td>11.3</td>\n",
       "    </tr>\n",
       "    <tr>\n",
       "      <th>23:00</th>\n",
       "      <td>10.0</td>\n",
       "      <td>42.8</td>\n",
       "      <td>NaN</td>\n",
       "      <td>34.9</td>\n",
       "      <td>13.8</td>\n",
       "    </tr>\n",
       "  </tbody>\n",
       "</table>\n",
       "<p>8760 rows × 5 columns</p>\n",
       "</div>"
      ],
      "text/plain": [
       "                Value                        \n",
       "Species            NO   NO2   NOX    O3  PM10\n",
       "Month Day Time                               \n",
       "01    01  00:00   2.5  14.6  18.5  59.8  11.4\n",
       "          01:00   1.9  17.3  20.2  53.6   8.9\n",
       "          02:00   1.8  17.5  20.3  54.5   6.9\n",
       "          03:00   0.9  17.3  18.7  57.5   5.6\n",
       "          04:00   0.9  12.9  14.3  60.9   1.4\n",
       "...               ...   ...   ...   ...   ...\n",
       "12    31  19:00  10.4  47.4   NaN  32.1  11.2\n",
       "          20:00  11.4  52.0   NaN  29.9  11.5\n",
       "          21:00   9.4  48.2   NaN  30.1  11.8\n",
       "          22:00   7.9  40.9   NaN  35.7  11.3\n",
       "          23:00  10.0  42.8   NaN  34.9  13.8\n",
       "\n",
       "[8760 rows x 5 columns]"
      ]
     },
     "execution_count": 9,
     "metadata": {},
     "output_type": "execute_result"
    }
   ],
   "source": [
    "#no entendi muy bien, pero lo que creo es que el metodo unstack() mueve un nivel del indice de fila a las columnas\n",
    "#como se envia si argumente se desapila el nivel mas interno del indice de fila\n",
    "air_df.unstack()"
   ]
  },
  {
   "cell_type": "markdown",
   "metadata": {
    "id": "eB15-Ozq4RK5"
   },
   "source": [
    "- Compara la salida del código anterior con pvt_df del Ejercicio 4. ¿Son básicamente iguales?\n",
    "\n",
    "tuve problema con el ejercicio 4, debido a la cantidad de filas, si me puede ayudar comprender el ejercicio 4 porfavor\n",
    "\n",
    "- Explica cuáles son las diferencias y similitudes entre el par .melt()/.pivot() y el par .stack()/.unstack()?\n",
    "\n",
    "ambos realizan transformaciones de formatos largo y anchos de DF, en el caso de .melt() transforma el DF de formato ancho a largo\n",
    "en el metodo .pivot() trasnforma el DF de formato largo a ancho.\n",
    "en el caso de .stack() transforma un DF de formato ancho a largo (apiola) las columnas en un nuevo nivel del indice de fila\n",
    "ahora con .unstack() transforma un DF de larco a ancho (depilar) un nivel del indice de fila para convertirse en las nuevas columnas\n",
    "\n",
    "- Si tuvieras que elegir una contraparte para .melt() entre .stack()/.unstack() ¿cuál elegirías?\n",
    ".melt() va de ancho a largo\n",
    ".stack() tambien va de ancho(columnas de variables implicitas) a largo (las variables se convierte en un nivel de indice )\n",
    ".unstack(va de largo a ancho)"
   ]
  },
  {
   "cell_type": "code",
   "execution_count": null,
   "metadata": {
    "id": "_U0uqWK84RK5"
   },
   "outputs": [],
   "source": []
  }
 ],
 "metadata": {
  "colab": {
   "provenance": []
  },
  "kernelspec": {
   "display_name": "Python [conda env:base] *",
   "language": "python",
   "name": "conda-base-py"
  },
  "language_info": {
   "codemirror_mode": {
    "name": "ipython",
    "version": 3
   },
   "file_extension": ".py",
   "mimetype": "text/x-python",
   "name": "python",
   "nbconvert_exporter": "python",
   "pygments_lexer": "ipython3",
   "version": "3.12.7"
  }
 },
 "nbformat": 4,
 "nbformat_minor": 4
}
