{
 "cells": [
  {
   "cell_type": "code",
   "execution_count": 25,
   "id": "23279969-a629-4889-be04-d691cdb8bdaf",
   "metadata": {},
   "outputs": [
    {
     "name": "stdin",
     "output_type": "stream",
     "text": [
      "Pega la URL de un Gato o Perro https://encrypted-tbn0.gstatic.com/images?q=tbn:ANd9GcRklfwjfIG5nBHDhh5og9PVg0qq4miG_NJhRw&s\n"
     ]
    },
    {
     "name": "stdout",
     "output_type": "stream",
     "text": [
      "--- Probando clasificación desde URL ---\n",
      "Enviando imagen desde URL: https://encrypted-tbn0.gstatic.com/images?q=tbn:ANd9GcRklfwjfIG5nBHDhh5og9PVg0qq4miG_NJhRw&s\n",
      "\n",
      "--- Resultados de la Clasificación ---\n",
      "- Etiqueta: Perros, Probabilidad: 99.96%\n",
      "- Etiqueta: Gatos, Probabilidad: 0.04%\n"
     ]
    }
   ],
   "source": [
    "import requests\n",
    "import json\n",
    "import os\n",
    "\n",
    "PREDICTION_KEY = \"23aab20ecd40425ab2eec1392393784d\" # Clave de la imagen\n",
    "\n",
    "# URL específica para enviar URLs de imágenes (¡Copia la URL COMPLETA de tu portal!)\n",
    "PREDICTION_URL_FOR_URL = \"\"\"\n",
    "https://westeurope.api.cognitive.microsoft.com/customvision/v3.0/Prediction/f415eefd-a702-482e-9550-8d960300063e/classify/iterations/PerrosGatos/url\"\"\" # ¡COMPLETA ESTA URL!\n",
    "\n",
    "# URL específica para enviar archivos de imagen locales (¡Copia la URL COMPLETA de tu portal!)\n",
    "PREDICTION_URL_FOR_FILE = \"\"\"\n",
    "https://westeurope.api.cognitive.microsoft.com/customvision/v3.0/Prediction/f415eefd-a702-482e-9550-8d960300063e/classify/iterations/PerrosGatos/image\"\"\" # ¡COMPLETA ESTA URL!\n",
    "\n",
    "\n",
    "# OPCIÓN 1: Clasificar una imagen desde una URL de Internet\n",
    "def classify_image_from_url(image_url):\n",
    "    \"\"\"Envía la URL de una imagen a Custom Vision para clasificación.\"\"\"\n",
    "    headers = {'Prediction-Key': PREDICTION_KEY, 'Content-Type': 'application/json'}\n",
    "    body = {'Url': image_url}\n",
    "    print(f\"Enviando imagen desde URL: {image_url}\")\n",
    "    response = requests.post(PREDICTION_URL_FOR_URL, headers=headers, json=body)\n",
    "    response.raise_for_status() # Aún útil para detener si la API devuelve error HTTP (4xx/5xx)\n",
    "    results = response.json()\n",
    "    print(\"\\n--- Resultados de la Clasificación ---\")\n",
    "    for prediction in results['predictions']:\n",
    "        print(f\"- Etiqueta: {prediction['tagName']}, Probabilidad: {prediction['probability']*100:.2f}%\")\n",
    "\n",
    "# OPCIÓN 2: Clasificar una imagen desde un archivo local (Simplificado)\n",
    "def classify_local_image(image_path):\n",
    "    \"\"\"Envía un archivo de imagen local a Custom Vision para clasificación.\"\"\"\n",
    "    headers = {'Prediction-Key': PREDICTION_KEY, 'Content-Type': 'application/octet-stream'}\n",
    "    print(f\"Enviando imagen desde archivo local: {image_path}\")\n",
    "    with open(image_path, 'rb') as image_data:\n",
    "        response = requests.post(PREDICTION_URL_FOR_FILE, headers=headers, data=image_data)\n",
    "    response.raise_for_status() # Aún útil para detener si la API devuelve error HTTP (4xx/5xx)\n",
    "    results = response.json()\n",
    "    print(\"\\n--- Resultados de la Clasificación ---\")\n",
    "    for prediction in results['predictions']:\n",
    "        print(f\"- Etiqueta: {prediction['tagName']}, Probabilidad: {prediction['probability']*100:.2f}%\")\n",
    "\n",
    "\n",
    "# --- EJEMPLO DE USO ---\n",
    "# Descomenta la opción que quieras usar y modifica la URL o ruta del archivo\n",
    "\n",
    "# Ejemplo Opción 1: Usar una URL\n",
    "imagen_a_clasificar_url = input(\"Pega la URL de un Gato o Perro\") # Ejemplo de URL de un gato\n",
    "# classify_image_from_url(imagen_a_clasificar_url)\n",
    "\n",
    "# Ejemplo Opción 2: Usar un archivo local\n",
    "# Asegúrate de que la imagen 'mi_imagen_prueba.jpg' existe en la misma carpeta que el script,\n",
    "# o proporciona la ruta completa al archivo.\n",
    "imagen_a_clasificar_local = \"mi_imagen_prueba.jpg\" # Cambia esto por la ruta a tu imagen\n",
    "# classify_local_image(imagen_a_clasificar_local)\n",
    "\n",
    "# --- Llama a la función que quieras usar ---\n",
    "# Por ejemplo (asegúrate de que las URLs en la configuración estén completas):\n",
    "print(\"--- Probando clasificación desde URL ---\")\n",
    "classify_image_from_url(imagen_a_clasificar_url)\n",
    "\n",
    "# O bien (asegúrate de que las URLs en la configuración estén completas):\n",
    "# print(\"\\n--- Probando clasificación desde archivo local ---\")\n",
    "# classify_local_image(imagen_a_clasificar_local)"
   ]
  }
 ],
 "metadata": {
  "kernelspec": {
   "display_name": "Python [conda env:base] *",
   "language": "python",
   "name": "conda-base-py"
  },
  "language_info": {
   "codemirror_mode": {
    "name": "ipython",
    "version": 3
   },
   "file_extension": ".py",
   "mimetype": "text/x-python",
   "name": "python",
   "nbconvert_exporter": "python",
   "pygments_lexer": "ipython3",
   "version": "3.12.7"
  }
 },
 "nbformat": 4,
 "nbformat_minor": 5
}
